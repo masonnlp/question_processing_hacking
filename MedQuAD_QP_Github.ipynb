{
  "nbformat": 4,
  "nbformat_minor": 0,
  "metadata": {
    "colab": {
      "name": "MedQuAD_QP_Github.ipynb",
      "provenance": [],
      "collapsed_sections": [],
      "include_colab_link": true
    },
    "kernelspec": {
      "name": "python3",
      "display_name": "Python 3"
    }
  },
  "cells": [
    {
      "cell_type": "markdown",
      "metadata": {
        "id": "view-in-github",
        "colab_type": "text"
      },
      "source": [
        "<a href=\"https://colab.research.google.com/github/masonnlp/question_processing_hacking/blob/master/MedQuAD_QP_Github.ipynb\" target=\"_parent\"><img src=\"https://colab.research.google.com/assets/colab-badge.svg\" alt=\"Open In Colab\"/></a>"
      ]
    },
    {
      "cell_type": "code",
      "metadata": {
        "id": "aVDcweawfph5",
        "colab_type": "code",
        "colab": {}
      },
      "source": [
        "#Mount Google Drive\n",
        "from google.colab import drive\n",
        "drive.mount('/content/gdrive', force_remount=True)\n",
        "\n",
        "#Download MedQuAD datasets from MedQuAD Github and save in directory\n",
        "import urllib, os\n",
        "directory = 'Your/Path/In/Google/Drive'#E.g. directory='/content/gdrive/My Drive/Colab Notebooks/MedQuAD_test/'\n",
        "os.chdir(directory)\n",
        "!git clone https://github.com/abachaa/MedQuAD.git\n",
        "\n",
        "#Install libraries\n",
        "!pip3 install scispacy #scispacy is able to identiy entities in a question\n",
        "!pip3 install https://s3-us-west-2.amazonaws.com/ai2-s2-scispacy/releases/v0.2.4/en_core_sci_lg-0.2.4.tar.gz\n",
        "import spacy\n",
        "import scispacy\n",
        "import en_core_sci_lg\n",
        "nlp = en_core_sci_lg.load()\n",
        "import urllib, os\n",
        "from lxml import etree as ET\n",
        "import pandas as pd\n"
      ],
      "execution_count": 0,
      "outputs": []
    },
    {
      "cell_type": "code",
      "metadata": {
        "id": "jR1mRNENGMWH",
        "colab_type": "code",
        "colab": {}
      },
      "source": [
        "def DataReader():\n",
        "    \"\"\"\n",
        "    Read and process questions from MedQuAD dataset in directory\n",
        "    Write to 'question_processing.xml' file in the directory\n",
        "    Output format:\n",
        "      <Input>\n",
        "        <Question id=\"0000001-1\" doc_id=\"0000001\" source=\"10_MPlus_ADAM_QA\">\n",
        "          <Q>What is (are) A guide to clinical trials for cancer ?</Q>\n",
        "          <QP>\n",
        "            <Category>Disease</Category>\n",
        "            <Type>information</Type>\n",
        "            <Theme>A guide to clinical trials for cancer</Theme>\n",
        "            <NER>clinical trials</NER>\n",
        "            <NER>cancer</NER>\n",
        "            <Related type=\"Synonym\">Intervention study</Related>\n",
        "            <Query>What clinical trials cancer</Query>\n",
        "            <Query>What A guide to clinical trials for cancer</Query>\n",
        "            <Query>What Intervention study</Query>\n",
        "          </QP> \n",
        "        </Question>\n",
        "        ...\n",
        "      </Input>\n",
        "    \"\"\"\n",
        "    write_root = ET.Element(\"Input\")\n",
        "    for website_name in [f for f in os.listdir(directory+'MedQuAD/') if f.endswith(\"QA\") or f.endswith(\"XML\")]:\n",
        "      for xml_file in [f for f in os.listdir(directory + 'MedQuAD/'+ website_name + '/') if f.endswith(\".xml\")]:\n",
        "        tree = ET.parse(os.path.join(directory+'MedQuAD/'+ website_name + '/', xml_file))\n",
        "        root = tree.getroot()\n",
        "        if root.find('.').get('id') is not None:\n",
        "          doc_id = root.find('.').get('id')\n",
        "        else:\n",
        "          doc_id = root.find('.').get('docid')\n",
        "        if root.find('./Focus') is not None:\n",
        "          theme = root.find('./Focus').text\n",
        "        else: \n",
        "          theme = root.find('./doctitle-focus').text\n",
        "        theme_synonym = root.find('./FocusAnnotations/Synonyms/Synonym')\n",
        "        if 'MPlus' in website_name:\n",
        "          category = root.find('./FocusAnnotations/Category').text\n",
        "        else:  \n",
        "          category = 'Disease'\n",
        "        source = website_name\n",
        "        for qapair in root.findall('./QAPairs/QAPair') or root.findall('./qaPairs/pair'):\n",
        "          if qapair.find('./Question') is not None:\n",
        "            qid = qapair.find('./Question')\n",
        "            question_type = qapair.find('./Question')\n",
        "            question = qapair.find('Question')\n",
        "          else:\n",
        "            qid = qapair.find('./question')\n",
        "            question_type = qapair.find('./question')\n",
        "            question = qapair.find('question')\n",
        "          qid = qid.get('qid')\n",
        "          question_type = question_type.get('qtype')\n",
        "          question = question.text\n",
        "          doc = nlp(question)\n",
        "          q_qp = ET.SubElement(write_root, \"Question\")\n",
        "          q_qp.set('id',qid)\n",
        "          q_qp.set('doc_id',str(doc_id))\n",
        "          q_qp.set('source',source)\n",
        "          q = ET.SubElement(q_qp, \"Q\")\n",
        "          q.text = question\n",
        "          qp = ET.SubElement(q_qp, \"QP\")\n",
        "          qcategory = ET.SubElement(qp, \"Category\")\n",
        "          qcategory.text = category \n",
        "          qtype = ET.SubElement(qp, \"Type\")\n",
        "          qtype.text = question_type \n",
        "          qtheme = ET.SubElement(qp, \"Theme\")\n",
        "          qtheme.text = theme\n",
        "          entity_list = []\n",
        "          for ent in doc.ents:\n",
        "            entity_list.append(str(ent))\n",
        "            en = ET.SubElement(qp, \"NER\")\n",
        "            en.text = str(ent)  \n",
        "          if theme_synonym is not None:\n",
        "            synonym = ET.SubElement(qp, \"Related\")\n",
        "            synonym.set('type','Synonym')\n",
        "            synonym.text = theme_synonym.text \n",
        "          query = ET.SubElement(qp, \"Query\")  \n",
        "          query.text = str(question.strip().split(' ')[0]) + ' ' + ' '.join(entity_list)\n",
        "          if theme not in entity_list: \n",
        "            query = ET.SubElement(qp, \"Query\")   \n",
        "            query.text = str(question.strip().split(' ')[0]) + ' ' + str(theme)\n",
        "          if theme_synonym is not None:\n",
        "            query = ET.SubElement(qp, \"Query\")\n",
        "            query.text = str(question.strip().split(' ')[0]) + ' ' + theme_synonym.text       \n",
        "    write_tree = ET.ElementTree(write_root)\n",
        "    write_tree.write(directory + 'question_processing.xml', pretty_print=True)\n",
        "    "
      ],
      "execution_count": 0,
      "outputs": []
    },
    {
      "cell_type": "code",
      "metadata": {
        "id": "gmfQgGKB-I8z",
        "colab_type": "code",
        "colab": {}
      },
      "source": [
        "# Read questions from MedQuAD dataset in directory and write to 'question_processing.xml' file in the directory\n",
        "DataReader()\n"
      ],
      "execution_count": 0,
      "outputs": []
    }
  ]
}